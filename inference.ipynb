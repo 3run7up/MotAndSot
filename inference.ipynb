{
 "cells": [
  {
   "cell_type": "code",
   "execution_count": 1,
   "metadata": {},
   "outputs": [],
   "source": [
    "from __future__ import absolute_import\n",
    "from __future__ import division\n",
    "from __future__ import print_function\n",
    "from __future__ import unicode_literals\n",
    "\n",
    "import os\n",
    "import argparse\n",
    "\n",
    "import cv2\n",
    "import torch\n",
    "import numpy as np\n",
    "from glob import glob\n",
    "\n",
    "from pysot.core.config import cfg\n",
    "from pysot.models.model_builder import ModelBuilder\n",
    "from pysot.tracker.tracker_builder import build_tracker\n",
    "\n",
    "import time"
   ]
  },
  {
   "cell_type": "code",
   "execution_count": 2,
   "metadata": {},
   "outputs": [
    {
     "data": {
      "text/plain": [
       "True"
      ]
     },
     "execution_count": 2,
     "metadata": {},
     "output_type": "execute_result"
    }
   ],
   "source": [
    "torch.cuda.is_available()"
   ]
  },
  {
   "cell_type": "code",
   "execution_count": null,
   "metadata": {},
   "outputs": [],
   "source": [
    "model_path = \"./pysot/models/rpn_res50.pth\"\n",
    "### СКАЧАТЬ МОДЕЛЬ\n",
    "### 'https://drive.google.com/file/d/1-tEtYQdT1G9kn8HsqKNDHVqjE16F8YQH/view?usp=drive_link'\n",
    "### Поместить и переименовать в соответствии с model_path\n",
    "\n",
    "if (not os.path.exists(model_path)):\n",
    "    import requests\n",
    "    url = 'https://drive.google.com/u/0/uc?id=1-tEtYQdT1G9kn8HsqKNDHVqjE16F8YQH&export=download&confirm=t&uuid=afd42841-2c3c-42a6-80eb-bef8b5157555&at=AB6BwCCrpEW_LEhqItrzgSkQn8S3:1698336708620'\n",
    "    r = requests.get(url, allow_redirects=True)\n",
    "\n",
    "    open(model_path, 'wb').write(r.content)"
   ]
  },
  {
   "cell_type": "code",
   "execution_count": 4,
   "metadata": {},
   "outputs": [],
   "source": [
    "def track_inference(local_config: dict):\n",
    "    cfg.merge_from_file(local_config[\"config\"])\n",
    "    cfg.CUDA = torch.cuda.is_available() and cfg.CUDA\n",
    "    device = torch.device('cuda' if cfg.CUDA else 'cpu')\n",
    "\n",
    "    model = ModelBuilder()\n",
    "    model.load_state_dict(torch.load(local_config[\"model\"],\n",
    "        map_location=lambda storage, loc: storage.cpu()))\n",
    "    model.eval().to(device)\n",
    "\n",
    "    tracker = build_tracker(model)\n",
    "\n",
    "    first_frame = True\n",
    "    video_name = local_config[\"video\"].split('/')[-1].split('.')[0]\n",
    "    video_path = local_config[\"video\"]\n",
    "    cv2.namedWindow(video_name, cv2.WND_PROP_FULLSCREEN)\n",
    "    \n",
    "    img_to_skip_for_warm_up = 10\n",
    "    total_time = 0\n",
    "\n",
    "    input_cap = cv2.VideoCapture(video_path)\n",
    "    processed_img_count = 0\n",
    "    if (\"max_img\" in local_config):\n",
    "        max_img = local_config[\"max_img\"]\n",
    "    else:\n",
    "        max_img = np.inf\n",
    "\n",
    "    if (\"output_file\" in local_config):\n",
    "        width  = input_cap.get(cv2.CAP_PROP_FRAME_WIDTH)   \n",
    "        height = input_cap.get(cv2.CAP_PROP_FRAME_HEIGHT)  \n",
    "        fps = input_cap.get(cv2.CAP_PROP_FPS)\n",
    "        out_video = cv2.VideoWriter(local_config[\"output_file\"], cv2.VideoWriter_fourcc('F','M','P','4'), fps, (int(width), int(height)))\n",
    "    else:\n",
    "        out_video = None\n",
    "\n",
    "\n",
    "    while input_cap.isOpened() and processed_img_count < max_img:\n",
    "        success, frame = input_cap.read()\n",
    "        if success:\n",
    "            if first_frame:\n",
    "                if \"init_rect\" not in local_config:\n",
    "                    try:\n",
    "                        init_rect = cv2.selectROI(video_name, frame, False, False)\n",
    "                        print(init_rect)\n",
    "                    except:\n",
    "                        exit()\n",
    "                else:\n",
    "                    init_rect = local_config[\"init_rect\"]\n",
    "                tracker.init(frame, init_rect)\n",
    "                first_frame = False\n",
    "                print(\"Tracker initialized\")\n",
    "            else:\n",
    "                start_time = time.time()\n",
    "                outputs = tracker.track(frame)\n",
    "                end_time = time.time()\n",
    "                processed_img_count += 1\n",
    "                if (processed_img_count > img_to_skip_for_warm_up):\n",
    "                    total_time += end_time - start_time\n",
    "                \n",
    "                bbox = list(map(int, outputs['bbox']))\n",
    "                cv2.rectangle(frame, (bbox[0], bbox[1]),\n",
    "                            (bbox[0]+bbox[2], bbox[1]+bbox[3]),\n",
    "                            (0, 255, 0), 3)\n",
    "                cv2.imshow(video_name, frame)\n",
    "\n",
    "                if (out_video):\n",
    "                    out_video.write(frame)\n",
    "            \n",
    "            if cv2.waitKey(1) & 0xFF == ord(\"q\"):\n",
    "                break\n",
    "        else:\n",
    "            break\n",
    "\n",
    "    input_cap.release()\n",
    "    if (out_video):\n",
    "        out_video.release()\n",
    "    cv2.destroyAllWindows()\n",
    "    return (processed_img_count - img_to_skip_for_warm_up, total_time)"
   ]
  },
  {
   "cell_type": "code",
   "execution_count": 5,
   "metadata": {},
   "outputs": [
    {
     "name": "stdout",
     "output_type": "stream",
     "text": [
      "Tracker initialized\n",
      "\n",
      "{'config': 'experiments/siamrpn_alex_dwxcorr/config.yaml', 'model': 'models/rpn_alex.pth', 'video': 'demo/traffic_big.mp4', 'output_file': 'output/out_alex.mp4', 'init_rect': (1147, 429, 51, 44)}\n",
      "FPS: 68.03375098067357\n"
     ]
    }
   ],
   "source": [
    "# TRACK_CONFIG = {\n",
    "#     \"config\": \"experiments/siamrpn_alex_dwxcorr/config.yaml\",\n",
    "#     \"model\": \"models/rpn_alex.pth\",\n",
    "#     \"video\": \"demo/traffic_big.mp4\",\n",
    "#     \"output_file\": \"output/out_alex.mp4\",\n",
    "#     \"init_rect\": (1147, 429, 51, 44)\n",
    "# }\n",
    "# img_count, processed_time = track_inference(TRACK_CONFIG)\n",
    "\n",
    "# print()\n",
    "# print(TRACK_CONFIG)\n",
    "# print(f\"FPS: {(img_count / processed_time)}\")\n"
   ]
  },
  {
   "cell_type": "code",
   "execution_count": 8,
   "metadata": {},
   "outputs": [
    {
     "name": "stdout",
     "output_type": "stream",
     "text": [
      "Tracker initialized\n",
      "\n",
      "{'config': 'experiments\\\\siamrpn_r50_l234_dwxcorr\\\\config.yaml', 'model': 'models/rpn_res50.pth', 'video': 'demo/traffic_big.mp4', 'output_file': 'output/out_res_50.mp4', 'init_rect': (1147, 429, 51, 44)}\n",
      "FPS: 33.18419856658559\n"
     ]
    }
   ],
   "source": [
    "TRACK_CONFIG = {\n",
    "    \"config\": \"experiments\\siamrpn_r50_l234_dwxcorr\\config.yaml\",\n",
    "    \"model\": \"models/rpn_res50.pth\",\n",
    "    \"video\": \"demo/traffic_big.mp4\",\n",
    "    \"output_file\": \"output/out_res_50.mp4\",\n",
    "    \"init_rect\": (1147, 429, 51, 44)\n",
    "}\n",
    "img_count, processed_time = track_inference(TRACK_CONFIG)\n",
    "\n",
    "print()\n",
    "print(TRACK_CONFIG)\n",
    "print(f\"FPS: {(img_count / processed_time)}\")"
   ]
  },
  {
   "cell_type": "code",
   "execution_count": null,
   "metadata": {},
   "outputs": [],
   "source": []
  }
 ],
 "metadata": {
  "kernelspec": {
   "display_name": "DL_torch",
   "language": "python",
   "name": "python3"
  },
  "language_info": {
   "codemirror_mode": {
    "name": "ipython",
    "version": 3
   },
   "file_extension": ".py",
   "mimetype": "text/x-python",
   "name": "python",
   "nbconvert_exporter": "python",
   "pygments_lexer": "ipython3",
   "version": "3.11.5"
  }
 },
 "nbformat": 4,
 "nbformat_minor": 2
}
